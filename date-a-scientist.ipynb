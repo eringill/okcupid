{
 "cells": [
  {
   "cell_type": "code",
   "execution_count": 51,
   "metadata": {},
   "outputs": [],
   "source": [
    "import pandas as pd\n",
    "import matplotlib.pyplot as plt\n",
    "import seaborn as sns\n",
    "from nltk.tokenize import word_tokenize\n",
    "from nltk.stem import WordNetLemmatizer\n",
    "from nltk.corpus import stopwords\n",
    "from nltk.corpus import wordnet\n",
    "from collections import Counter\n",
    "import re\n",
    "from part_of_speech import get_part_of_speech\n",
    "\n",
    "\n",
    "\n",
    "\n"
   ]
  },
  {
   "cell_type": "code",
   "execution_count": 47,
   "metadata": {},
   "outputs": [
    {
     "output_type": "execute_result",
     "data": {
      "text/plain": [
       "Index(['age', 'body_type', 'diet', 'drinks', 'drugs', 'education', 'essay0',\n",
       "       'essay1', 'essay2', 'essay3', 'essay4', 'essay5', 'essay6', 'essay7',\n",
       "       'essay8', 'essay9', 'ethnicity', 'height', 'income', 'job',\n",
       "       'last_online', 'location', 'offspring', 'orientation', 'pets',\n",
       "       'religion', 'sex', 'sign', 'smokes', 'speaks', 'status'],\n",
       "      dtype='object')"
      ]
     },
     "metadata": {},
     "execution_count": 47
    }
   ],
   "source": [
    "df = pd.read_csv('../okcupiddata/profiles.csv')\n",
    "df.columns"
   ]
  },
  {
   "cell_type": "code",
   "execution_count": 76,
   "metadata": {},
   "outputs": [
    {
     "output_type": "stream",
     "name": "stderr",
     "text": [
      "<ipython-input-76-dfd803fa42db>:3: SettingWithCopyWarning: \nA value is trying to be set on a copy of a slice from a DataFrame.\nTry using .loc[row_indexer,col_indexer] = value instead\n\nSee the caveats in the documentation: https://pandas.pydata.org/pandas-docs/stable/user_guide/indexing.html#returning-a-view-versus-a-copy\n  df_essays['corpus'] = df_essays[df_essays.columns[0:]].apply(\n"
     ]
    }
   ],
   "source": [
    "#make dataframe just containing essays\n",
    "df_essays = df[['essay0', 'essay1', 'essay2', 'essay3', 'essay4', 'essay5', 'essay6', 'essay7', 'essay8', 'essay9']]\n",
    "df_essays['corpus'] = df_essays[df_essays.columns[0:]].apply(\n",
    "    lambda x: ','.join(x.dropna().astype(str)),\n",
    "    axis=1)\n",
    "corpus = df_essays['corpus'].tolist()"
   ]
  },
  {
   "cell_type": "code",
   "execution_count": 94,
   "metadata": {},
   "outputs": [],
   "source": [
    "def remove_noise(text):\n",
    "    #remove html tags\n",
    "    import re\n",
    "    clean = re.compile('<.*?>')\n",
    "    text = re.sub(clean, '', text)\n",
    "    #remove punctuation\n",
    "    text = re.sub(r'[^\\w\\s]','',text)\n",
    "    #remove newline, tab\n",
    "    text = re.sub(r'\\r+|\\n+|\\t+',' ',text)\n",
    "    return text\n",
    "\n",
    "def tokenize_lemmatize_remove_stop(text):\n",
    "    tokenized = word_tokenize(str(text))\n",
    "    #print(len(tokenized))\n",
    "    lemmatized = [lemmatizer.lemmatize(token, get_part_of_speech(token)) for token in tokenized]\n",
    "    no_stop = [word for word in lemmatized if word not in stop_words]\n",
    "    return no_stop\n",
    "\n",
    "lemmatizer = WordNetLemmatizer()\n",
    "stop_words = set(stopwords.words('english'))\n"
   ]
  },
  {
   "cell_type": "code",
   "execution_count": 95,
   "metadata": {
    "tags": []
   },
   "outputs": [
    {
     "output_type": "stream",
     "name": "stdout",
     "text": [
      "['would', 'love', 'think', 'kind', 'intellectual', 'either', 'dumbest', 'smart', 'guy', 'smart', 'dumb', 'guy', 'cant', 'say', 'tell', 'difference', 'love', 'talk', 'idea', 'concept', 'forge', 'odd', 'metaphor', 'instead', 'recite', 'cliche', 'like', 'simularities', 'friend', 'mine', 'house', 'underwater', 'salt', 'mine', 'favorite', 'word', 'salt', 'way', 'weird', 'choice', 'know', 'thing', 'life', 'well', 'metaphor', 'seek', 'make', 'little', 'well', 'everyday', 'productively', 'lazy', 'way', 'get', 'tire', 'tie', 'shoe', 'consider', 'hire', 'five', 'year', 'old', 'would', 'probably', 'tie', 'shoe', 'decide', 'wear', 'leather', 'shoe', 'dress', 'shoe', 'love', 'really', 'serious', 'really', 'deep', 'conversation', 'really', 'silly', 'stuff', 'snap', 'light', 'hearted', 'rant', 'kiss', 'dont', 'funny', 'able', 'make', 'laugh', 'able', 'bend', 'spoon', 'mind', 'telepathically', 'make', 'smile', 'still', 'work', 'love', 'life', 'cool', 'let', 'wind', 'blow', 'extra', 'point', 'read', 'guess', 'favorite', 'video', 'game', 'hint', 'give', 'yet', 'lastly', 'good', 'attention', 'spancurrently', 'work', 'international', 'agent', 'freight', 'forwarding', 'company', 'import', 'export', 'domestic', 'know', 'work', 'online', 'class', 'try', 'well', 'free', 'time', 'perhaps', 'hour', 'worth', 'good', 'book', 'video', 'game', 'lazy', 'sundaymaking', 'people', 'laugh', 'ranting', 'good', 'salt', 'find', 'simplicity', 'complexity', 'complexity', 'simplicitythe', 'way', 'look', 'six', 'foot', 'half', 'asian', 'half', 'caucasian', 'mutt', 'make', 'tough', 'notice', 'blend', 'inbooks', 'absurdistan', 'republic', 'mouse', 'men', 'book', 'make', 'want', 'cry', 'catcher', 'rye', 'prince', 'movie', 'gladiator', 'operation', 'valkyrie', 'producer', 'periscope', 'show', 'borgia', 'arrest', 'development', 'game', 'throne', 'monty', 'python', 'music', 'aesop', 'rock', 'hail', 'mary', 'mallon', 'george', 'thorogood', 'delaware', 'destroyer', 'felt', 'food', 'im', 'anythingfood', 'water', 'cell', 'phone', 'shelterduality', 'humorous', 'thingstrying', 'find', 'someone', 'hang', 'anything', 'except', 'clubi', 'new', 'california', 'look', 'someone', 'wisper', 'secret', 'toyou', 'want', 'sweep', 'foot', 'tire', 'norm', 'want', 'catch', 'coffee', 'bite', 'want', 'talk', 'philosophy']\n"
     ]
    }
   ],
   "source": [
    "denoised = [remove_noise(str(i)) for i in corpus]\n",
    "normalized = [tokenize_lemmatize_remove_stop(i) for i in denoised]\n",
    "print(normalized[0])"
   ]
  },
  {
   "cell_type": "code",
   "execution_count": 96,
   "metadata": {},
   "outputs": [
    {
     "output_type": "stream",
     "name": "stdout",
     "text": [
      "59946\n"
     ]
    }
   ],
   "source": [
    "print(len(normalized))"
   ]
  },
  {
   "cell_type": "code",
   "execution_count": null,
   "metadata": {},
   "outputs": [],
   "source": []
  }
 ],
 "metadata": {
  "kernelspec": {
   "name": "python385jvsc74a57bd0dca0ade3e726a953b501b15e8e990130d2b7799f14cfd9f4271676035ebe5511",
   "display_name": "Python 3.8.5 64-bit ('base': conda)"
  },
  "language_info": {
   "codemirror_mode": {
    "name": "ipython",
    "version": 3
   },
   "file_extension": ".py",
   "mimetype": "text/x-python",
   "name": "python",
   "nbconvert_exporter": "python",
   "pygments_lexer": "ipython3",
   "version": "3.8.5"
  }
 },
 "nbformat": 4,
 "nbformat_minor": 4
}