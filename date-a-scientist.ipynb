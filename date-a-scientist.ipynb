{
 "cells": [
  {
   "cell_type": "code",
   "execution_count": 3,
   "metadata": {},
   "outputs": [],
   "source": [
    "import pandas as pd\n",
    "import matplotlib.pyplot as plt\n",
    "import seaborn as sns\n",
    "from nltk.tokenize import word_tokenize\n",
    "from nltk.stem import WordNetLemmatizer\n",
    "from nltk.corpus import stopwords, wordnet\n",
    "from collections import Counter\n",
    "import re\n",
    "from part_of_speech import get_part_of_speech\n",
    "\n",
    "\n",
    "\n",
    "\n"
   ]
  },
  {
   "cell_type": "code",
   "execution_count": 4,
   "metadata": {},
   "outputs": [
    {
     "output_type": "execute_result",
     "data": {
      "text/plain": [
       "Index(['age', 'body_type', 'diet', 'drinks', 'drugs', 'education', 'essay0',\n",
       "       'essay1', 'essay2', 'essay3', 'essay4', 'essay5', 'essay6', 'essay7',\n",
       "       'essay8', 'essay9', 'ethnicity', 'height', 'income', 'job',\n",
       "       'last_online', 'location', 'offspring', 'orientation', 'pets',\n",
       "       'religion', 'sex', 'sign', 'smokes', 'speaks', 'status'],\n",
       "      dtype='object')"
      ]
     },
     "metadata": {},
     "execution_count": 4
    }
   ],
   "source": [
    "df = pd.read_csv('../okcupiddata/profiles.csv')\n",
    "df.columns"
   ]
  },
  {
   "cell_type": "code",
   "execution_count": 6,
   "metadata": {},
   "outputs": [
    {
     "output_type": "stream",
     "name": "stdout",
     "text": [
      "59946\n"
     ]
    }
   ],
   "source": [
    "df['essaycorpus'] = df.essay0 + df.essay1 + df.essay2 + df.essay3 + df.essay4 + df.essay5 + df.essay6 + df.essay7 + df.essay8 + df.essay9"
   ]
  },
  {
   "cell_type": "code",
   "execution_count": 32,
   "metadata": {},
   "outputs": [
    {
     "output_type": "stream",
     "name": "stdout",
     "text": [
      "   age       body_type               diet      drinks      drugs  \\\n0   22  a little extra  strictly anything    socially      never   \n1   35         average       mostly other       often  sometimes   \n2   38            thin           anything    socially        NaN   \n3   23            thin         vegetarian    socially        NaN   \n4   29        athletic                NaN    socially      never   \n5   29         average    mostly anything    socially        NaN   \n6   32             fit  strictly anything    socially      never   \n7   31         average    mostly anything    socially      never   \n8   24             NaN  strictly anything    socially        NaN   \n9   37        athletic    mostly anything  not at all      never   \n\n                           education  \\\n0      working on college/university   \n1              working on space camp   \n2     graduated from masters program   \n3      working on college/university   \n4  graduated from college/university   \n5  graduated from college/university   \n6  graduated from college/university   \n7  graduated from college/university   \n8  graduated from college/university   \n9        working on two-year college   \n\n                                              essay0  \\\n0  about mei would love to think that i was some ...   \n1  i am a chef this is what that means1 i am a wo...   \n2  im not ashamed of much but writing public text...   \n3             i work in a library and go to school     \n4  hey hows it going currently vague on the profi...   \n5  im an australian living in san francisco but d...   \n6  life is about the little things i love to laug...   \n7                                                NaN   \n8                                                NaN   \n9  my names jakeim a creative guy and i look for ...   \n\n                                              essay1  \\\n0  currently working as an international agent fo...   \n1  dedicating everyday to being an unbelievable b...   \n2  i make nerdy software for musicians, artists, ...   \n3          reading things written by old dead people   \n4                         work work work work + play   \n5  building awesome stuff. figuring out what's im...   \n6                         digging up buried treasure   \n7  writing. meeting new people, spending time wit...   \n8  oh goodness. at the moment i have 4 jobs, so i...   \n9  i have an apartment. i like to explore and che...   \n\n                                              essay2  \\\n0  making people laugh   ranting about a good sal...   \n1  being silly  having ridiculous amonts of fun w...   \n2  improvising in different contexts  alternating...   \n3  playing synthesizers and organizing books acco...   \n4  creating imagery to look at   http bagsbrown b...   \n5  imagining random shit  laughing at aforementio...   \n6  frolicking  witty banter  using my camera to e...   \n7  remembering people s birthdays  sending cards ...   \n8                                                NaN   \n9  i m good at finding creative solutions to prob...   \n\n                                              essay3  ...  \\\n0  the way i look. i am a six foot half asian, ha...  ...   \n1                                                NaN  ...   \n2  my large jaw and large glasses are the physica...  ...   \n3                  socially awkward but i do my best  ...   \n4            i smile a lot and my inquisitive nature  ...   \n5  i have a big smile. i also get asked if i'm we...  ...   \n6                              i am the last unicorn  ...   \n7  i'm rather approachable (a byproduct of being ...  ...   \n8  i'm freakishly blonde and have the same name a...  ...   \n9                                          i'm short  ...   \n\n                                      offspring orientation  \\\n0  doesn&rsquo;t have kids, but might want them    straight   \n1  doesn&rsquo;t have kids, but might want them    straight   \n2                                           NaN    straight   \n3                       doesn&rsquo;t want kids    straight   \n4                                           NaN    straight   \n5  doesn&rsquo;t have kids, but might want them    straight   \n6                                           NaN    straight   \n7       doesn&rsquo;t have kids, but wants them    straight   \n8                       doesn&rsquo;t have kids    straight   \n9                                           NaN    straight   \n\n                        pets                                   religion sex  \\\n0  likes dogs and likes cats      agnosticism and very serious about it   m   \n1  likes dogs and likes cats   agnosticism but not too serious about it   m   \n2                   has cats                                        NaN   m   \n3                 likes cats                                        NaN   m   \n4  likes dogs and likes cats                                        NaN   m   \n5                 likes cats                                    atheism   m   \n6  likes dogs and likes cats                                        NaN   f   \n7  likes dogs and likes cats                               christianity   f   \n8  likes dogs and likes cats  christianity but not too serious about it   f   \n9  likes dogs and likes cats              atheism and laughing about it   m   \n\n                                 sign         smokes  \\\n0                              gemini      sometimes   \n1                              cancer             no   \n2  pisces but it doesn&rsquo;t matter             no   \n3                              pisces             no   \n4                            aquarius             no   \n5                              taurus             no   \n6                               virgo            NaN   \n7                         sagittarius             no   \n8  gemini but it doesn&rsquo;t matter  when drinking   \n9  cancer but it doesn&rsquo;t matter             no   \n\n                                              speaks     status  \\\n0                                            english     single   \n1  english (fluently), spanish (poorly), french (...     single   \n2                               english, french, c++  available   \n3                           english, german (poorly)     single   \n4                                            english     single   \n5                 english (fluently), chinese (okay)     single   \n6                                            english     single   \n7                            english, spanish (okay)     single   \n8                                            english     single   \n9                                 english (fluently)     single   \n\n                                         essaycorpus  \n0  about me:<br />\\n<br />\\ni would love to think...  \n1                                                NaN  \n2                                                NaN  \n3                                                NaN  \n4                                                NaN  \n5  i'm an australian living in san francisco, but...  \n6                                                NaN  \n7                                                NaN  \n8                                                NaN  \n9  my names jake.<br />\\ni'm a creative guy and i...  \n\n[10 rows x 32 columns]\n"
     ]
    }
   ],
   "source": [
    "dfnew = df\n",
    "dfnew['essay2'] = dfnew['essay2'].str.replace(r'<[^<]+?>', '')\n",
    "dfnew['essay2'] = dfnew['essay2'].str.replace(r'[^\\w\\s]+', ' ')\n",
    "dfnew['essay2'] = dfnew['essay2'].replace(r'\\r+|\\n+|\\t+',' ', regex=True)\n",
    "\n",
    "print(dfnew.head(10))"
   ]
  },
  {
   "cell_type": "code",
   "execution_count": null,
   "metadata": {},
   "outputs": [],
   "source": [
    "df['text'] = df['text'].str.replace(r'<[^<]+?>', '')\n",
    "df['text'] = df['text'].str.replace(r'[^\\w\\s]+', '')\n",
    "\n"
   ]
  }
 ],
 "metadata": {
  "kernelspec": {
   "name": "python385jvsc74a57bd0dca0ade3e726a953b501b15e8e990130d2b7799f14cfd9f4271676035ebe5511",
   "display_name": "Python 3.8.5 64-bit ('base': conda)"
  },
  "language_info": {
   "codemirror_mode": {
    "name": "ipython",
    "version": 3
   },
   "file_extension": ".py",
   "mimetype": "text/x-python",
   "name": "python",
   "nbconvert_exporter": "python",
   "pygments_lexer": "ipython3",
   "version": "3.8.5"
  }
 },
 "nbformat": 4,
 "nbformat_minor": 4
}